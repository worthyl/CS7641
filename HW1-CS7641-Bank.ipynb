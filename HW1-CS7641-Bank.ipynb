{
 "cells": [
  {
   "cell_type": "code",
   "execution_count": 2,
   "metadata": {},
   "outputs": [],
   "source": [
    "import numpy as np\n",
    "import pandas as pd\n",
    "from matplotlib import pyplot as plt\n",
    "from imblearn.over_sampling import SMOTE\n",
    "import keras\n",
    "from keras.models import Sequential\n",
    "from keras.layers import Dense\n",
    "from keras.utils import plot_model\n",
    "from sklearn import tree, svm, datasets, metrics, preprocessing\n",
    "from sklearn.model_selection import train_test_split,StratifiedKFold, ShuffleSplit\n",
    "from sklearn.model_selection import StratifiedShuffleSplit, cross_validate, GridSearchCV, learning_curve, validation_curve\n",
    "from sklearn.metrics import roc_curve, auc, accuracy_score, confusion_matrix, classification_report\n",
    "from sklearn.neighbors import KNeighborsClassifier\n",
    "from sklearn.tree import DecisionTreeClassifier\n",
    "from sklearn.ensemble import AdaBoostClassifier\n",
    "from sklearn.neural_network import MLPClassifier\n",
    "from sklearn.preprocessing import StandardScaler, LabelEncoder\n",
    "from sklearn.pipeline import Pipeline\n",
    "from utilities import plot_2d_data, plot_2d_classifier, plot_confusionmatrix\n",
    "from utilities import learning_curve_model, validation_curve_model, plot_learning_curve\n",
    "from scipy import stats\n",
    "import seaborn as sns\n",
    "import os\n",
    "import timeit\n",
    "\n",
    "from utilities import get_colors\n",
    "cm = get_colors(colormap='RdBu', n_colors=2)"
   ]
  },
  {
   "cell_type": "code",
   "execution_count": 3,
   "metadata": {
    "scrolled": false
   },
   "outputs": [
    {
     "data": {
      "text/plain": [
       "(11162, 17)"
      ]
     },
     "execution_count": 3,
     "metadata": {},
     "output_type": "execute_result"
    }
   ],
   "source": [
    "data = pd.read_csv(\"./data/bank.csv\")\n",
    "data.shape"
   ]
  },
  {
   "cell_type": "code",
   "execution_count": 4,
   "metadata": {
    "scrolled": false
   },
   "outputs": [
    {
     "data": {
      "text/html": [
       "<div>\n",
       "<style scoped>\n",
       "    .dataframe tbody tr th:only-of-type {\n",
       "        vertical-align: middle;\n",
       "    }\n",
       "\n",
       "    .dataframe tbody tr th {\n",
       "        vertical-align: top;\n",
       "    }\n",
       "\n",
       "    .dataframe thead th {\n",
       "        text-align: right;\n",
       "    }\n",
       "</style>\n",
       "<table border=\"1\" class=\"dataframe\">\n",
       "  <thead>\n",
       "    <tr style=\"text-align: right;\">\n",
       "      <th></th>\n",
       "      <th>age</th>\n",
       "      <th>job</th>\n",
       "      <th>marital</th>\n",
       "      <th>education</th>\n",
       "      <th>default</th>\n",
       "      <th>balance</th>\n",
       "      <th>housing</th>\n",
       "      <th>loan</th>\n",
       "      <th>contact</th>\n",
       "      <th>day</th>\n",
       "      <th>month</th>\n",
       "      <th>duration</th>\n",
       "      <th>campaign</th>\n",
       "      <th>pdays</th>\n",
       "      <th>previous</th>\n",
       "      <th>poutcome</th>\n",
       "      <th>deposit</th>\n",
       "    </tr>\n",
       "  </thead>\n",
       "  <tbody>\n",
       "    <tr>\n",
       "      <th>0</th>\n",
       "      <td>59</td>\n",
       "      <td>admin.</td>\n",
       "      <td>married</td>\n",
       "      <td>secondary</td>\n",
       "      <td>no</td>\n",
       "      <td>2343</td>\n",
       "      <td>yes</td>\n",
       "      <td>no</td>\n",
       "      <td>unknown</td>\n",
       "      <td>5</td>\n",
       "      <td>may</td>\n",
       "      <td>1042</td>\n",
       "      <td>1</td>\n",
       "      <td>-1</td>\n",
       "      <td>0</td>\n",
       "      <td>unknown</td>\n",
       "      <td>yes</td>\n",
       "    </tr>\n",
       "    <tr>\n",
       "      <th>1</th>\n",
       "      <td>56</td>\n",
       "      <td>admin.</td>\n",
       "      <td>married</td>\n",
       "      <td>secondary</td>\n",
       "      <td>no</td>\n",
       "      <td>45</td>\n",
       "      <td>no</td>\n",
       "      <td>no</td>\n",
       "      <td>unknown</td>\n",
       "      <td>5</td>\n",
       "      <td>may</td>\n",
       "      <td>1467</td>\n",
       "      <td>1</td>\n",
       "      <td>-1</td>\n",
       "      <td>0</td>\n",
       "      <td>unknown</td>\n",
       "      <td>yes</td>\n",
       "    </tr>\n",
       "    <tr>\n",
       "      <th>2</th>\n",
       "      <td>41</td>\n",
       "      <td>technician</td>\n",
       "      <td>married</td>\n",
       "      <td>secondary</td>\n",
       "      <td>no</td>\n",
       "      <td>1270</td>\n",
       "      <td>yes</td>\n",
       "      <td>no</td>\n",
       "      <td>unknown</td>\n",
       "      <td>5</td>\n",
       "      <td>may</td>\n",
       "      <td>1389</td>\n",
       "      <td>1</td>\n",
       "      <td>-1</td>\n",
       "      <td>0</td>\n",
       "      <td>unknown</td>\n",
       "      <td>yes</td>\n",
       "    </tr>\n",
       "    <tr>\n",
       "      <th>3</th>\n",
       "      <td>55</td>\n",
       "      <td>services</td>\n",
       "      <td>married</td>\n",
       "      <td>secondary</td>\n",
       "      <td>no</td>\n",
       "      <td>2476</td>\n",
       "      <td>yes</td>\n",
       "      <td>no</td>\n",
       "      <td>unknown</td>\n",
       "      <td>5</td>\n",
       "      <td>may</td>\n",
       "      <td>579</td>\n",
       "      <td>1</td>\n",
       "      <td>-1</td>\n",
       "      <td>0</td>\n",
       "      <td>unknown</td>\n",
       "      <td>yes</td>\n",
       "    </tr>\n",
       "    <tr>\n",
       "      <th>4</th>\n",
       "      <td>54</td>\n",
       "      <td>admin.</td>\n",
       "      <td>married</td>\n",
       "      <td>tertiary</td>\n",
       "      <td>no</td>\n",
       "      <td>184</td>\n",
       "      <td>no</td>\n",
       "      <td>no</td>\n",
       "      <td>unknown</td>\n",
       "      <td>5</td>\n",
       "      <td>may</td>\n",
       "      <td>673</td>\n",
       "      <td>2</td>\n",
       "      <td>-1</td>\n",
       "      <td>0</td>\n",
       "      <td>unknown</td>\n",
       "      <td>yes</td>\n",
       "    </tr>\n",
       "  </tbody>\n",
       "</table>\n",
       "</div>"
      ],
      "text/plain": [
       "   age         job  marital  education default  balance housing loan  contact  \\\n",
       "0   59      admin.  married  secondary      no     2343     yes   no  unknown   \n",
       "1   56      admin.  married  secondary      no       45      no   no  unknown   \n",
       "2   41  technician  married  secondary      no     1270     yes   no  unknown   \n",
       "3   55    services  married  secondary      no     2476     yes   no  unknown   \n",
       "4   54      admin.  married   tertiary      no      184      no   no  unknown   \n",
       "\n",
       "   day month  duration  campaign  pdays  previous poutcome deposit  \n",
       "0    5   may      1042         1     -1         0  unknown     yes  \n",
       "1    5   may      1467         1     -1         0  unknown     yes  \n",
       "2    5   may      1389         1     -1         0  unknown     yes  \n",
       "3    5   may       579         1     -1         0  unknown     yes  \n",
       "4    5   may       673         2     -1         0  unknown     yes  "
      ]
     },
     "execution_count": 4,
     "metadata": {},
     "output_type": "execute_result"
    }
   ],
   "source": [
    "data.head(5)"
   ]
  },
  {
   "cell_type": "code",
   "execution_count": 5,
   "metadata": {},
   "outputs": [
    {
     "data": {
      "text/html": [
       "<div>\n",
       "<style scoped>\n",
       "    .dataframe tbody tr th:only-of-type {\n",
       "        vertical-align: middle;\n",
       "    }\n",
       "\n",
       "    .dataframe tbody tr th {\n",
       "        vertical-align: top;\n",
       "    }\n",
       "\n",
       "    .dataframe thead th {\n",
       "        text-align: right;\n",
       "    }\n",
       "</style>\n",
       "<table border=\"1\" class=\"dataframe\">\n",
       "  <thead>\n",
       "    <tr style=\"text-align: right;\">\n",
       "      <th></th>\n",
       "      <th>age</th>\n",
       "      <th>job</th>\n",
       "      <th>marital</th>\n",
       "      <th>education</th>\n",
       "      <th>default</th>\n",
       "      <th>balance</th>\n",
       "      <th>housing</th>\n",
       "      <th>loan</th>\n",
       "      <th>contact</th>\n",
       "      <th>day</th>\n",
       "      <th>month</th>\n",
       "      <th>duration</th>\n",
       "      <th>campaign</th>\n",
       "      <th>pdays</th>\n",
       "      <th>previous</th>\n",
       "      <th>poutcome</th>\n",
       "      <th>deposit</th>\n",
       "    </tr>\n",
       "  </thead>\n",
       "  <tbody>\n",
       "    <tr>\n",
       "      <th>0</th>\n",
       "      <td>41</td>\n",
       "      <td>0</td>\n",
       "      <td>1</td>\n",
       "      <td>1</td>\n",
       "      <td>0</td>\n",
       "      <td>2288</td>\n",
       "      <td>1</td>\n",
       "      <td>0</td>\n",
       "      <td>2</td>\n",
       "      <td>4</td>\n",
       "      <td>8</td>\n",
       "      <td>1021</td>\n",
       "      <td>0</td>\n",
       "      <td>0</td>\n",
       "      <td>0</td>\n",
       "      <td>3</td>\n",
       "      <td>1</td>\n",
       "    </tr>\n",
       "    <tr>\n",
       "      <th>1</th>\n",
       "      <td>38</td>\n",
       "      <td>0</td>\n",
       "      <td>1</td>\n",
       "      <td>1</td>\n",
       "      <td>0</td>\n",
       "      <td>469</td>\n",
       "      <td>0</td>\n",
       "      <td>0</td>\n",
       "      <td>2</td>\n",
       "      <td>4</td>\n",
       "      <td>8</td>\n",
       "      <td>1283</td>\n",
       "      <td>0</td>\n",
       "      <td>0</td>\n",
       "      <td>0</td>\n",
       "      <td>3</td>\n",
       "      <td>1</td>\n",
       "    </tr>\n",
       "    <tr>\n",
       "      <th>2</th>\n",
       "      <td>23</td>\n",
       "      <td>9</td>\n",
       "      <td>1</td>\n",
       "      <td>1</td>\n",
       "      <td>0</td>\n",
       "      <td>1618</td>\n",
       "      <td>1</td>\n",
       "      <td>0</td>\n",
       "      <td>2</td>\n",
       "      <td>4</td>\n",
       "      <td>8</td>\n",
       "      <td>1246</td>\n",
       "      <td>0</td>\n",
       "      <td>0</td>\n",
       "      <td>0</td>\n",
       "      <td>3</td>\n",
       "      <td>1</td>\n",
       "    </tr>\n",
       "    <tr>\n",
       "      <th>3</th>\n",
       "      <td>37</td>\n",
       "      <td>7</td>\n",
       "      <td>1</td>\n",
       "      <td>1</td>\n",
       "      <td>0</td>\n",
       "      <td>2356</td>\n",
       "      <td>1</td>\n",
       "      <td>0</td>\n",
       "      <td>2</td>\n",
       "      <td>4</td>\n",
       "      <td>8</td>\n",
       "      <td>577</td>\n",
       "      <td>0</td>\n",
       "      <td>0</td>\n",
       "      <td>0</td>\n",
       "      <td>3</td>\n",
       "      <td>1</td>\n",
       "    </tr>\n",
       "    <tr>\n",
       "      <th>4</th>\n",
       "      <td>36</td>\n",
       "      <td>0</td>\n",
       "      <td>1</td>\n",
       "      <td>2</td>\n",
       "      <td>0</td>\n",
       "      <td>608</td>\n",
       "      <td>0</td>\n",
       "      <td>0</td>\n",
       "      <td>2</td>\n",
       "      <td>4</td>\n",
       "      <td>8</td>\n",
       "      <td>671</td>\n",
       "      <td>1</td>\n",
       "      <td>0</td>\n",
       "      <td>0</td>\n",
       "      <td>3</td>\n",
       "      <td>1</td>\n",
       "    </tr>\n",
       "  </tbody>\n",
       "</table>\n",
       "</div>"
      ],
      "text/plain": [
       "   age  job  marital  education  default  balance  housing  loan  contact  \\\n",
       "0   41    0        1          1        0     2288        1     0        2   \n",
       "1   38    0        1          1        0      469        0     0        2   \n",
       "2   23    9        1          1        0     1618        1     0        2   \n",
       "3   37    7        1          1        0     2356        1     0        2   \n",
       "4   36    0        1          2        0      608        0     0        2   \n",
       "\n",
       "   day  month  duration  campaign  pdays  previous  poutcome  deposit  \n",
       "0    4      8      1021         0      0         0         3        1  \n",
       "1    4      8      1283         0      0         0         3        1  \n",
       "2    4      8      1246         0      0         0         3        1  \n",
       "3    4      8       577         0      0         0         3        1  \n",
       "4    4      8       671         1      0         0         3        1  "
      ]
     },
     "execution_count": 5,
     "metadata": {},
     "output_type": "execute_result"
    }
   ],
   "source": [
    "data = data.apply(LabelEncoder().fit_transform)\n",
    "data.head(5)"
   ]
  },
  {
   "cell_type": "code",
   "execution_count": 6,
   "metadata": {
    "scrolled": true
   },
   "outputs": [],
   "source": [
    "data_X = data.drop(columns = ['deposit'], axis=1)/256\n",
    "data_y = data['deposit']\n",
    "train_X, test_X, train_y, test_y = train_test_split(data_X, data_y, test_size=0.2, random_state=100)"
   ]
  },
  {
   "cell_type": "code",
   "execution_count": 7,
   "metadata": {},
   "outputs": [],
   "source": [
    "cv = ShuffleSplit(n_splits=100, test_size=0.2, random_state=0)"
   ]
  },
  {
   "cell_type": "code",
   "execution_count": null,
   "metadata": {},
   "outputs": [],
   "source": [
    "dtc = tree.DecisionTreeClassifier(random_state=100)\n",
    "dtc.fit(train_X, train_y)"
   ]
  },
  {
   "cell_type": "code",
   "execution_count": null,
   "metadata": {},
   "outputs": [],
   "source": [
    "train_size=np.linspace(.1, 1.0, 15)\n",
    "learning_curve_model(data_X, data_y, dtc, cv, train_size)\n",
    "plt.show()"
   ]
  },
  {
   "cell_type": "code",
   "execution_count": null,
   "metadata": {},
   "outputs": [],
   "source": [
    "predict_y_train = dtc.predict(train_X)\n",
    "predict_y = dtc.predict(test_X)\n",
    "print(f\"Training accuracy score: {100* accuracy_score(train_y, predict_y_train)}%\")\n",
    "print(f\"Testing accuracy Score: {100* accuracy_score(test_y, predict_y)}%\")"
   ]
  },
  {
   "cell_type": "code",
   "execution_count": null,
   "metadata": {
    "scrolled": false
   },
   "outputs": [],
   "source": [
    "fig, axes = plt.subplots(3, 3, figsize=(15, 15))\n",
    "\n",
    "cv = ShuffleSplit(n_splits=100, test_size=0.2, random_state=0)\n",
    "\n",
    "title = \"Learning Curves (Unpruned Decision Tree)\"\n",
    "dtc = tree.DecisionTreeClassifier(random_state=100)\n",
    "plot_learning_curve(dtc, title, train_X, train_y, axes=axes[0, :], ylim=(0.7, 1.01),\n",
    "                    cv=cv, n_jobs=4)\n",
    "\n",
    "title = \"Learning Curves (Pre-pruned Decision Tree)\"\n",
    "dtc_pre = tree.DecisionTreeClassifier(max_depth=8, min_samples_leaf=2, min_samples_split=3)\n",
    "plot_learning_curve(dtc_pre, title, train_X, train_y, axes=axes[1,:], ylim=(0.7, 1.01),\n",
    "                    cv=cv, n_jobs=4)\n",
    "\n",
    "title = \"Learning Curves (Post-pruned Decision Tree)\"\n",
    "dtc_post = tree.DecisionTreeClassifier(ccp_alpha=0.018, random_state=100)\n",
    "plot_learning_curve(dtc_post, title, train_X, train_y, axes=axes[2,:], ylim=(0.7, 1.01), cv=cv, n_jobs=4)\n",
    "\n",
    "\n",
    "plt.show()"
   ]
  },
  {
   "cell_type": "markdown",
   "metadata": {},
   "source": [
    "### Neural Network"
   ]
  },
  {
   "cell_type": "code",
   "execution_count": null,
   "metadata": {},
   "outputs": [],
   "source": [
    "fig, axes = plt.subplots(3, 1, figsize=(15, 15))\n",
    "\n",
    "cv = ShuffleSplit(n_splits=10, test_size=0.2, random_state=0)\n",
    "\n",
    "title = \"Learning Curves (5 layer MLP)\"\n",
    "clf1 = MLPClassifier(alpha=1e-5, hidden_layer_sizes=(5,), solver='sgd', max_iter=10000, random_state=18)\n",
    "clf1.fit(train_X, train_y)\n",
    "plt.subplot(clf1.loss_curve_)\n",
    "plot_learning_curve(clf1, title, train_X, train_y, axes=axes[0, :], ylim=(0.7, 1.01), cv=cv, n_jobs=4)\n",
    "\n",
    "title = \"Learning Curves (10 layer MLP)\"\n",
    "clf2 = MLPClassifier(alpha=1e-5, hidden_layer_sizes=(10,), solver='sgd', max_iter=10000, random_state=18)\n",
    "clf2.fit(train_X, train_y)\n",
    "plt.subplot(clf2.loss_curve_)\n",
    "plot_learning_curve(clf2, title, train_X, train_y, axes=axes[1,:], ylim=(0.7, 1.01),cv=cv, n_jobs=4)\n",
    "\n",
    "title = \"Learning Curves (15 layer MLP)\"\n",
    "clf3 = MLPClassifier(alpha=1e-5, hidden_layer_sizes=(15,), solver='sgd', max_iter=10000, random_state=18)\n",
    "clf3.fit(train_X, train_y)\n",
    "plt.subplot(clf3.loss_curve_)\n",
    "plot_learning_curve(clf3, title, train_X, train_y, axes=axes[2,:], ylim=(0.7, 1.01), cv=cv, n_jobs=4)\n",
    "\n",
    "\n",
    "plt.show()"
   ]
  },
  {
   "cell_type": "code",
   "execution_count": null,
   "metadata": {},
   "outputs": [],
   "source": [
    "sc = StandardScaler() \n",
    "scaled_train_X = sc.fit_transform(train_X)\n",
    "scaled_test_X = sc.transform(test_X)"
   ]
  },
  {
   "cell_type": "code",
   "execution_count": null,
   "metadata": {},
   "outputs": [],
   "source": [
    "mlp = MLPClassifier(max_iter=5000, random_state=18, early_stopping=True)\n",
    "param_list = {\"hidden_layer_sizes\": [(1,),(5,),(10,)], \"solver\": [\"lbfgs\", \"sgd\", \"adam\"], \"alpha\": [0.00001, 0.00005,0.0005]}\n",
    "\n",
    "gcv = GridSearchCV(estimator=mlp, param_grid=param_list)\n",
    "gcv.fit(scaled_train_X, train_y)"
   ]
  },
  {
   "cell_type": "code",
   "execution_count": null,
   "metadata": {},
   "outputs": [],
   "source": [
    "print('Best parameters found:\\n', gcv.best_params_, gcv.best_score_)"
   ]
  },
  {
   "cell_type": "code",
   "execution_count": null,
   "metadata": {},
   "outputs": [],
   "source": [
    "# title = \"Learning Curves (5 layer MLP)\"\n",
    "#clf1 = MLPClassifier(hidden_layer_sizes=(11,8), solver='lbfgs', max_iter=10000, random_state=18, early_stopping=True)\n",
    "#clf1.fit(scaled_train_X, train_y)\n",
    "#print (clf1.score(scaled_train_X,train_y))\n",
    "#print(f\"Testing accuracy score: {100* accuracy_score(test_y, clf1.predict(scaled_test_X))}%\")\n",
    "# plt.plot(clf1.validation_scores_)\n",
    "\n",
    "param_range = np.arange(0, 75, 1)\n",
    "train_scores, test_scores = validation_curve(\n",
    "    MLPClassifier(alpha=0.00005, hidden_layer_sizes=(5,), solver='lbfgs', max_iter=100, random_state=18, early_stopping=True), scaled_train_X, train_y, param_name=\"max_iter\", param_range=param_range,\n",
    "    scoring=\"accuracy\", n_jobs=4)"
   ]
  },
  {
   "cell_type": "code",
   "execution_count": null,
   "metadata": {},
   "outputs": [],
   "source": [
    "train_scores_mean = np.mean(train_scores, axis=1)\n",
    "train_scores_std = np.std(train_scores, axis=1)\n",
    "test_scores_mean = np.mean(test_scores, axis=1)\n",
    "test_scores_std = np.std(test_scores, axis=1)\n",
    "\n",
    "plt.title(\"Validation Curve with MLP Classifier\")\n",
    "plt.xlabel(\"Iterations\")\n",
    "plt.ylabel(\"Score\")\n",
    "plt.ylim(0.55, 0.85)\n",
    "lw = 2\n",
    "plt.plot(param_range, train_scores_mean, label=\"Training score\",\n",
    "             color=\"darkorange\", lw=lw)\n",
    "plt.fill_between(param_range, train_scores_mean - train_scores_std,\n",
    "                 train_scores_mean + train_scores_std, alpha=0.2,\n",
    "                 color=\"darkorange\", lw=lw)\n",
    "plt.plot(param_range, test_scores_mean, label=\"Cross-validation score\",\n",
    "             color=\"navy\", lw=lw)\n",
    "plt.fill_between(param_range, test_scores_mean - test_scores_std,\n",
    "                 test_scores_mean + test_scores_std, alpha=0.2,\n",
    "                 color=\"navy\", lw=lw)\n",
    "plt.legend(loc=\"best\")\n",
    "plt.show()"
   ]
  },
  {
   "cell_type": "code",
   "execution_count": null,
   "metadata": {},
   "outputs": [],
   "source": [
    "model = Sequential([\n",
    "    Dense(32, activation='relu', input_shape=(16,)),\n",
    "    Dense(32, activation='relu'),\n",
    "    Dense(1, activation='sigmoid'),\n",
    "])"
   ]
  },
  {
   "cell_type": "code",
   "execution_count": null,
   "metadata": {},
   "outputs": [],
   "source": [
    "model.compile(optimizer='sgd',\n",
    "              loss='binary_crossentropy',\n",
    "              metrics=['accuracy'])"
   ]
  },
  {
   "cell_type": "code",
   "execution_count": null,
   "metadata": {},
   "outputs": [],
   "source": [
    "train2_X, val_X, train2_y, val_y = train_test_split(train_X, train_y, test_size=0.2, random_state=100)\n",
    "\n",
    "hist = model.fit(train2_X, train2_y,\n",
    "          batch_size=32, epochs=150,\n",
    "          validation_data=(val_X, val_y))\n"
   ]
  },
  {
   "cell_type": "code",
   "execution_count": null,
   "metadata": {
    "scrolled": false
   },
   "outputs": [],
   "source": [
    "model.evaluate(test_X, test_y)[1]"
   ]
  },
  {
   "cell_type": "code",
   "execution_count": null,
   "metadata": {},
   "outputs": [],
   "source": [
    "plt.figure(num=None, figsize=(8, 6), dpi=80, facecolor='w', edgecolor='k')\n",
    "plt.plot(hist.history['loss'])\n",
    "plt.plot(hist.history['val_loss'])\n",
    "plt.plot(hist.history['accuracy'])\n",
    "plt.plot(hist.history['val_accuracy'])\n",
    "plt.title('Model accuracy')\n",
    "plt.ylabel('Accuracy')\n",
    "plt.xlabel('Epoch')\n",
    "plt.legend(['Loss Train', 'Loss Value', 'Accuracy Train', 'Accuracy Value'], loc='best')\n",
    "plt.show()"
   ]
  },
  {
   "cell_type": "markdown",
   "metadata": {},
   "source": [
    "### Boosting"
   ]
  },
  {
   "cell_type": "code",
   "execution_count": 10,
   "metadata": {},
   "outputs": [
    {
     "name": "stdout",
     "output_type": "stream",
     "text": [
      "Training Error [0.29086248 0.25101727 0.22788412 0.22311814 0.21973338 0.22433768\n",
      " 0.22178667 0.21822792 0.21489289 0.22722476], Value Error [0.2918582  0.25277156 0.22801937 0.22443896 0.2277988  0.22477302\n",
      " 0.22466242 0.22130308 0.21615166 0.23037175]\n"
     ]
    }
   ],
   "source": [
    "n_learning_rate_steps, n_folds = 10, 10\n",
    "learning_rates = np.linspace(0.1, 1.0, num=n_learning_rate_steps)\n",
    "splitter = StratifiedKFold(n_splits=n_folds, shuffle=True)\n",
    "trn_err = np.zeros((n_learning_rate_steps, n_folds))\n",
    "val_err = np.zeros((n_learning_rate_steps, n_folds))\n",
    "stump = DecisionTreeClassifier(max_depth=1, random_state = 100)\n",
    " \n",
    "for i, rate in enumerate(learning_rates):\n",
    "    for j, (trn, val) in enumerate(splitter.split(train_X, train_y)):\n",
    "        model = AdaBoostClassifier(algorithm='SAMME', base_estimator=stump, \n",
    "                                   n_estimators=10, learning_rate=rate)\n",
    "        model.fit(train_X.values[trn, :], train_y.values[trn])\n",
    "        trn_err[i, j] = 1 - accuracy_score(train_y.values[trn], model.predict(train_X.values[trn, :]))\n",
    "        val_err[i, j] = 1 - accuracy_score(train_y.values[val], model.predict(train_X.values[val, :]))\n",
    "trn_err = np.mean(trn_err, axis=1)\n",
    "val_err = np.mean(val_err, axis=1)\n",
    "print(f'Training Error {trn_err}, Value Error {val_err}')\n"
   ]
  },
  {
   "cell_type": "code",
   "execution_count": 12,
   "metadata": {},
   "outputs": [
    {
     "data": {
      "image/png": "[encoded data removed]",
      "text/plain": [
       "<Figure size 288x288 with 1 Axes>"
      ]
     },
     "metadata": {
      "needs_background": "light"
     },
     "output_type": "display_data"
    }
   ],
   "source": [
    "fig, ax = plt.subplots(nrows=1, ncols=1, figsize=(4, 4))\n",
    "\n",
    "ax.plot(learning_rates, trn_err, marker='o', c=cm[0], markeredgecolor='w', linewidth=2)\n",
    "ax.plot(learning_rates, val_err, marker='s', c=cm[1], markeredgecolor='w', linewidth=2)\n",
    "ax.legend(['Train err', 'Validation err'])\n",
    "ax.set_title(\"Bank Marketing - Boosting\")\n",
    "ax.set_xlabel('Learning rate')\n",
    "ax.set_ylabel('Error (%)')\n",
    "\n",
    "fig.tight_layout()"
   ]
  },
  {
   "cell_type": "code",
   "execution_count": 16,
   "metadata": {},
   "outputs": [],
   "source": [
    "n_estimator_steps, n_folds = 2, 10\n",
    "number_of_stumps = np.arange(2,125, n_estimator_steps)\n",
    "splitter = StratifiedKFold(n_splits=n_folds, shuffle=True)\n",
    "\n",
    "trn_acc = np.zeros((len(number_of_stumps), n_folds))\n",
    "val_acc = np.zeros((len(number_of_stumps), n_folds))\n",
    "test_acc = np.zeros((len(number_of_stumps), n_folds))\n",
    "\n",
    "stump = DecisionTreeClassifier(max_depth=1)\n",
    "for i, n_stumps in enumerate(number_of_stumps):\n",
    "    for j, (trn, val) in enumerate(splitter.split(train_X, train_y)):\n",
    "        model = AdaBoostClassifier(algorithm='SAMME', base_estimator=stump,\n",
    "                                   n_estimators=n_stumps, learning_rate=0.9)\n",
    "        model.fit(train_X.values[trn, :], train_y.values[trn])\n",
    "\n",
    "        trn_acc[i, j] = accuracy_score(train_y.values[trn], \n",
    "                                           model.predict(train_X.values[trn, :]))\n",
    "        val_acc[i, j] = accuracy_score(train_y.values[val], \n",
    "                                           model.predict(train_X.values[val, :]))\n",
    "        test_acc[i,j] = accuracy_score(test_y, model.predict(test_X))\n",
    "\n",
    "trn_acc = np.mean(trn_acc, axis=1)\n",
    "val_acc = np.mean(val_acc, axis=1)\n",
    "test_acc = np.mean(test_acc, axis=1)"
   ]
  },
  {
   "cell_type": "code",
   "execution_count": 18,
   "metadata": {},
   "outputs": [
    {
     "data": {
      "image/png": "[encoded data removed]",
      "text/plain": [
       "<Figure size 288x288 with 1 Axes>"
      ]
     },
     "metadata": {
      "needs_background": "light"
     },
     "output_type": "display_data"
    }
   ],
   "source": [
    "fig, ax = plt.subplots(nrows=1, ncols=1, figsize=(4, 4))\n",
    "\n",
    "ax.plot(number_of_stumps, trn_acc, c=cm[0], markeredgecolor='w', linewidth=2)\n",
    "ax.plot(number_of_stumps, val_acc, c=cm[1], markeredgecolor='w', linewidth=2)\n",
    "ax.plot(number_of_stumps, test_acc, c=\"cyan\", markeredgecolor='w', linewidth=1)\n",
    "ax.legend(['Train accuracy', 'Validation accuracy'])\n",
    "ax.set_title(\"Bank Marketing - Boosting\")\n",
    "ax.set_xlabel('Number of decision stumps')\n",
    "ax.set_ylabel('Accuracy (%)')\n",
    "\n",
    "fig.tight_layout()"
   ]
  },
  {
   "cell_type": "code",
   "execution_count": 13,
   "metadata": {},
   "outputs": [
    {
     "data": {
      "text/plain": [
       "AdaBoostClassifier(base_estimator=DecisionTreeClassifier(max_depth=1),\n",
       "                   learning_rate=0.9, n_estimators=75)"
      ]
     },
     "execution_count": 13,
     "metadata": {},
     "output_type": "execute_result"
    }
   ],
   "source": [
    "shallow_tree = DecisionTreeClassifier(max_depth=1)\n",
    "ensemble = AdaBoostClassifier(base_estimator=shallow_tree, \n",
    "                                  n_estimators=75, learning_rate=0.9)\n",
    "ensemble.fit(train_X, train_y)"
   ]
  },
  {
   "cell_type": "code",
   "execution_count": 14,
   "metadata": {},
   "outputs": [
    {
     "data": {
      "text/plain": [
       "0.8248992386923422"
      ]
     },
     "execution_count": 14,
     "metadata": {},
     "output_type": "execute_result"
    }
   ],
   "source": [
    "ypred = ensemble.predict(test_X)\n",
    "acc = accuracy_score(test_y, ypred)\n",
    "acc"
   ]
  },
  {
   "cell_type": "code",
   "execution_count": null,
   "metadata": {
    "scrolled": true
   },
   "outputs": [],
   "source": [
    "title = \"Learning Curves (Unpruned Decision Tree)\"\n",
    "dtc = tree.DecisionTreeClassifier(random_state=100)\n",
    "trainAdaBoost(dtc, title)"
   ]
  },
  {
   "cell_type": "code",
   "execution_count": null,
   "metadata": {},
   "outputs": [],
   "source": [
    "title = \"Learning Curves (Pre-pruned Decision Tree)\"\n",
    "dtc_pre = tree.DecisionTreeClassifier(max_depth=8, min_samples_leaf=2, min_samples_split=3)\n",
    "trainAdaBoost(dtc_pre, title)"
   ]
  },
  {
   "cell_type": "code",
   "execution_count": null,
   "metadata": {},
   "outputs": [],
   "source": [
    "title = \"Learning Curves (Post-pruned Decision Tree)\"\n",
    "dtc_post = tree.DecisionTreeClassifier(ccp_alpha=0.018, random_state=100)\n",
    "trainAdaBoost(dtc_post, title)\n",
    "\n",
    "plt.show()"
   ]
  },
  {
   "cell_type": "markdown",
   "metadata": {},
   "source": [
    "### SVM"
   ]
  },
  {
   "cell_type": "code",
   "execution_count": null,
   "metadata": {
    "scrolled": true
   },
   "outputs": [],
   "source": [
    "fig, axes = plt.subplots(6, 3, figsize=(30, 15))\n",
    "\n",
    "cv = ShuffleSplit(n_splits=10, test_size=0.2, random_state=0)\n",
    "\n",
    "title = \"Learning Curves (C5 layer MLP) kernel=rbf\"\n",
    "clf1 = svm.SVC(kernel='rbf', C=15, gamma='auto')\n",
    "clf1.fit(train_X, train_y)\n",
    "plot_learning_curve(clf1, title, train_X, train_y, axes=axes[0, :], ylim=(0.7, 1.01),\n",
    "                    cv=cv, n_jobs=4)\n",
    "\n",
    "title = \"Learning Curves (C30 layer MLP) kernel=rbf\"\n",
    "clf2 =  svm.SVC(kernel='rbf', C=30, gamma='auto')\n",
    "clf2.fit(train_X, train_y)\n",
    "plot_learning_curve(clf2, title, train_X, train_y, axes=axes[1,:], ylim=(0.7, 1.01),\n",
    "                    cv=cv, n_jobs=4)\n",
    "\n",
    "title = \"Learning Curves (C45 layer MLP) kernel=rbf\"\n",
    "clf3 = svm.SVC(kernel='rbf', C=45, gamma='auto')\n",
    "clf3.fit(train_X, train_y)\n",
    "plot_learning_curve(clf3, title, train_X, train_y, axes=axes[2,:], ylim=(0.7, 1.01),\n",
    "                    cv=cv, n_jobs=4)\n",
    "\n",
    "title = \"Learning Curves (C5 layer MLP) kernel=poly\"\n",
    "clf4 = svm.SVC(kernel='poly', C=15, gamma='auto')\n",
    "clf4.fit(train_X, train_y)\n",
    "plot_learning_curve(clf4, title, train_X, train_y, axes=axes[3, :], ylim=(0.2, 1.01),\n",
    "                    cv=cv, n_jobs=4)\n",
    "\n",
    "title = \"Learning Curves (C30 layer MLP) kernel=poly\"\n",
    "clf5 = svm.SVC(kernel='poly', C=30, gamma='auto')\n",
    "clf5.fit(train_X, train_y)\n",
    "plot_learning_curve(clf5, title, train_X, train_y, axes=axes[4,:], ylim=(0.2, 1.01),\n",
    "                    cv=cv, n_jobs=4)\n",
    "\n",
    "title = \"Learning Curves (C45 layer MLP) kernel=poly\"\n",
    "clf6 = svm.SVC(kernel='poly', C=45, gamma='auto')\n",
    "clf6.fit(train_X, train_y)\n",
    "plot_learning_curve(clf6, title, train_X, train_y, axes=axes[5,:], ylim=(0.2, 1.01),\n",
    "                    cv=cv, n_jobs=4)\n",
    "\n",
    "plt.show()"
   ]
  },
  {
   "cell_type": "code",
   "execution_count": null,
   "metadata": {},
   "outputs": [],
   "source": [
    "print(f'Best Score - C5: {clf1.score(test_X, test_y)*100:.2f}%')\n",
    "print(f'Best Score - C30: {clf2.score(test_X, test_y)*100:.2f}%')\n",
    "print(f'Best Score - C45: {clf3.score(test_X, test_y)*100:.2f}%')"
   ]
  },
  {
   "cell_type": "code",
   "execution_count": null,
   "metadata": {},
   "outputs": [],
   "source": [
    "import time\n",
    "\n",
    "kernelList = ['rbf','poly']\n",
    "CList = [0.1, 1, 3, 10]\n",
    "degreeList = [1,2,3]\n",
    "gammaList = [0.01,0.1,1.0]\n",
    "\n",
    "for i,kernel in enumerate(kernelList):\n",
    "    for j,c in enumerate(CList):\n",
    "        if kernel=='poly':\n",
    "            for l,degree in enumerate(degreeList):\n",
    "                clf = svm.SVC(kernel=kernel, C=c, degree=degree, cache_size=400)\n",
    "                \n",
    "                start=time.process_time()\n",
    "                clf.fit(train_X, train_y)\n",
    "                fitTime = time.process_time() - start\n",
    "                \n",
    "                testValue = clf.score(train_X, train_y)*100\n",
    "                trainValue = clf.score(test_X, test_y)*100 \n",
    "                \n",
    "                start = time.process_time()\n",
    "                clf.predict(test_X)\n",
    "                testTime = time.process_time() - start\n",
    "                print(f'SVM: {kernel}, {degree}, {c}, {fitTime:.2f}s, {trainValue:.2f}%, {testTime:.2f}s, {testValue:.2f}%')   \n",
    "        if kernel=='rbf':\n",
    "            for l,gamma in enumerate(gammaList):\n",
    "                clf  = svm.SVC(kernel=kernel, C=c, gamma=gamma, cache_size=400)                                \n",
    "                \n",
    "                start=time.process_time()\n",
    "                clf.fit(train_X, train_y)\n",
    "                fitTime = time.process_time() - start\n",
    "                \n",
    "                testValue = clf.score(train_X, train_y)*100\n",
    "                trainValue = clf.score(test_X, test_y)*100 \n",
    "                \n",
    "                start = time.process_time()\n",
    "                clf.predict(test_X)\n",
    "                testTime = time.process_time() - start\n",
    "\n",
    "                print(f'SVM: {kernel}, {gamma}, {c}, {fitTime:.2f}s, {trainValue:.2f}%, {testTime:.2f}s, {testValue:.2f}%')"
   ]
  },
  {
   "cell_type": "markdown",
   "metadata": {},
   "source": [
    "### KNN"
   ]
  },
  {
   "cell_type": "code",
   "execution_count": null,
   "metadata": {
    "scrolled": true
   },
   "outputs": [],
   "source": [
    "# try to find best k value\n",
    "scoreList = []\n",
    "trainList = []\n",
    "\n",
    "for i in range(2,40,2):\n",
    "    knn2 = KNeighborsClassifier(n_neighbors = i)  # n_neighbors means k\n",
    "    knn2.fit(train_X, train_y)\n",
    "    fpr, tpr, thresholds = metrics.roc_curve(test_y, knn2.predict_proba(test_X)[:,1])\n",
    "    # Calculate Area under the curve to display on the plot\n",
    "    auc = metrics.roc_auc_score(test_y,knn2.predict(test_X))\n",
    "    # Now, plot the computed values\n",
    "    plt.plot(fpr, tpr, label='%s ROC (area = %0.2f)' % (f'# Nodes: {i}', auc))\n",
    "    pred_y = knn2.predict(train_X)\n",
    "    trainList.append(accuracy_score(train_y, pred_y))\n",
    "    scoreList.append(knn2.score(test_X, test_y))\n",
    "    # Custom settings for the plot "
   ]
  },
  {
   "cell_type": "code",
   "execution_count": null,
   "metadata": {
    "scrolled": true
   },
   "outputs": [],
   "source": [
    "plt.plot(range(2,40,2), scoreList, label='Testing Accuracy')\n",
    "plt.plot(range(2,40,2), trainList, label='Training Accuracy')\n",
    "plt.legend()\n",
    "plt.title('KNN - Bank Marketing')\n",
    "plt.xticks(np.arange(2,40,2))\n",
    "plt.xlabel(\"K-value\")\n",
    "plt.ylabel(\"Score\")\n",
    "plt.show()\n"
   ]
  },
  {
   "cell_type": "code",
   "execution_count": null,
   "metadata": {
    "scrolled": true
   },
   "outputs": [],
   "source": [
    "acc = max(scoreList)*100\n",
    "key = scoreList.index(max(scoreList)) *2\n",
    "print(f'Maximum KNN Score is {acc:.2f}% at {key} neighbors')"
   ]
  },
  {
   "cell_type": "code",
   "execution_count": null,
   "metadata": {},
   "outputs": [],
   "source": []
  }
 ],
 "metadata": {
  "kernelspec": {
   "display_name": "ml",
   "language": "python",
   "name": "ml"
  },
  "language_info": {
   "codemirror_mode": {
    "name": "ipython",
    "version": 3
   },
   "file_extension": ".py",
   "mimetype": "text/x-python",
   "name": "python",
   "nbconvert_exporter": "python",
   "pygments_lexer": "ipython3",
   "version": "3.8.5"
  }
 },
 "nbformat": 4,
 "nbformat_minor": 4
}
