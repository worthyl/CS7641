{
 "cells": [
  {
   "cell_type": "markdown",
   "metadata": {},
   "source": [
    "# CS 7641 Homework 1 - Fall 2020\n",
    "\n"
   ]
  },
  {
   "cell_type": "code",
   "execution_count": 2,
   "metadata": {},
   "outputs": [],
   "source": [
    "import numpy as np\n",
    "import pandas as pd\n",
    "from matplotlib import pyplot as plt\n",
    "from sklearn import tree, svm, datasets\n",
    "from sklearn.metrics import accuracy_score\n",
    "from sklearn.model_selection import train_test_split\n",
    "import os"
   ]
  },
  {
   "cell_type": "markdown",
   "metadata": {},
   "source": [
    "## Loading Datasets"
   ]
  },
  {
   "cell_type": "code",
   "execution_count": 3,
   "metadata": {
    "scrolled": true
   },
   "outputs": [],
   "source": [
    "heart_data = pd.read_csv(\"./data/heart.csv\")\n",
    "heart_data_X = heart_data.drop(\"target\", axis=1)/256\n",
    "heart_data_y = heart_data.target\n",
    "\n",
    "heart_train_X, heart_test_X, heart_train_y, heart_test_y = train_test_split(heart_data_X, heart_data_y, test_size=0.3, random_state=100)"
   ]
  },
  {
   "cell_type": "code",
   "execution_count": 4,
   "metadata": {},
   "outputs": [
    {
     "name": "stdout",
     "output_type": "stream",
     "text": [
      "Accuracy Score: 76.92307692307693%\n"
     ]
    }
   ],
   "source": [
    "# https://scikit-learn.org/stable/modules/tree.html\n",
    "# https://deepstat.tistory.com/44\n",
    "# https://jcabelloc.github.io/machine%20learning/2019/02/27/classification-task.html\n",
    "\n",
    "dtc_heart = tree.DecisionTreeClassifier(random_state=100)\n",
    "dtc_heart.fit(heart_train_X, heart_train_y)\n",
    "heart_predict_y = dtc_heart.predict(heart_test_X)\n",
    "print(f\"Accuracy Score: {100* accuracy_score(heart_test_y, heart_predict_y)}%\")\n"
   ]
  },
  {
   "cell_type": "markdown",
   "metadata": {},
   "source": [
    "## SVM"
   ]
  },
  {
   "cell_type": "code",
   "execution_count": 5,
   "metadata": {},
   "outputs": [
    {
     "data": {
      "text/plain": [
       "0.7362637362637363"
      ]
     },
     "execution_count": 5,
     "metadata": {},
     "output_type": "execute_result"
    }
   ],
   "source": [
    "model = svm.SVC(kernel='rbf', C=30, gamma='auto')\n",
    "model.fit(heart_train_X, heart_train_y)\n",
    "model.score(heart_test_X, heart_test_y)"
   ]
  },
  {
   "cell_type": "code",
   "execution_count": 6,
   "metadata": {},
   "outputs": [],
   "source": [
    "from sklearn.model_selection import cross_val_score"
   ]
  },
  {
   "cell_type": "code",
   "execution_count": 13,
   "metadata": {},
   "outputs": [
    {
     "name": "stdout",
     "output_type": "stream",
     "text": [
      "              precision    recall  f1-score   support\n",
      "\n",
      "           0       0.92      0.74      0.82        46\n",
      "           1       0.78      0.93      0.85        45\n",
      "\n",
      "    accuracy                           0.84        91\n",
      "   macro avg       0.85      0.84      0.83        91\n",
      "weighted avg       0.85      0.84      0.83        91\n",
      "\n"
     ]
    }
   ],
   "source": [
    "from sklearn.model_selection import GridSearchCV\n",
    "from sklearn.multiclass import OneVsRestClassifier\n",
    "from sklearn.metrics import f1_score, make_scorer, classification_report\n",
    "\n",
    "# https://stackoverflow.com/questions/12632992/gridsearch-for-an-estimator-inside-a-onevsrestclassifier\n",
    "\n",
    "# model_OVRC = OneVsRestClassifier(svm.LinearSVC(class_weight='balanced', max_iter=10000))\n",
    "# svm_model = svm.LinearSVC(class_weight='balanced', max_iter=100000)\n",
    "svm_model = svm.SVC()\n",
    "\n",
    "parameters = {'C':(0.1, 0.5, 1, 2, 5, 10, 20, 40, 100), \n",
    "          \"gamma\":(0.001, 0.01, 0.1, 0.25, 0.5, 0.75, 1), \n",
    "          \"kernel\":('linear', 'poly', 'rbf')\n",
    "         }\n",
    "\n",
    "model = GridSearchCV(svm_model, parameters, cv=5)\n",
    "\n",
    "model.fit(heart_train_X, heart_train_y)\n",
    "model_predict = model.predict(heart_test_X)\n",
    "\n",
    "print(classification_report(heart_test_y, model_predict))\n"
   ]
  },
  {
   "cell_type": "markdown",
   "metadata": {},
   "source": [
    "## KNN"
   ]
  },
  {
   "cell_type": "code",
   "execution_count": 6,
   "metadata": {},
   "outputs": [],
   "source": [
    "from sklearn.neighbors import KNeighborsClassifier\n",
    "from sklearn.metrics import confusion_matrix"
   ]
  },
  {
   "cell_type": "code",
   "execution_count": 7,
   "metadata": {
    "scrolled": true
   },
   "outputs": [
    {
     "name": "stdout",
     "output_type": "stream",
     "text": [
      "Training accuracy =  1.0\n"
     ]
    }
   ],
   "source": [
    "KNN_Model = KNeighborsClassifier(n_neighbors=1).fit(fashion_train_X, fashion_train_y)\n",
    "KNN_Model_type_1_train_acc = (KNN_Model.predict(fashion_train_X) == fashion_train_y).mean()\n",
    "print(\"Training accuracy = \", KNN_Model_type_1_train_acc)"
   ]
  },
  {
   "cell_type": "code",
   "execution_count": null,
   "metadata": {},
   "outputs": [],
   "source": []
  }
 ],
 "metadata": {
  "kernelspec": {
   "display_name": "ml",
   "language": "python",
   "name": "ml"
  },
  "language_info": {
   "codemirror_mode": {
    "name": "ipython",
    "version": 3
   },
   "file_extension": ".py",
   "mimetype": "text/x-python",
   "name": "python",
   "nbconvert_exporter": "python",
   "pygments_lexer": "ipython3",
   "version": "3.8.5"
  }
 },
 "nbformat": 4,
 "nbformat_minor": 4
}
