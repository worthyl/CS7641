{
 "cells": [
  {
   "cell_type": "markdown",
   "metadata": {},
   "source": [
    "## Citations\n",
    "\n",
    "Rollings, A. (2020). mlrose: Machine Learning, Randomized Optimization and SEarch package for Python, hiive extended remix. https://github.com/hiive/mlrose. Accessed: Sept 28, 2020\n",
    "\n",
    "Hayes, G. (2019). mlrose: Machine Learning, Randomized Optimization and SEarch package for Python. https://github.com/gkhayes/mlrose. Accessed: Sept 28, 2020\n",
    "\n",
    "(Timer) https://stackoverflow.com/questions/7370801/how-to-measure-elapsed-time-in-python"
   ]
  },
  {
   "cell_type": "code",
   "execution_count": 36,
   "metadata": {},
   "outputs": [],
   "source": [
    "import mlrose_hiive as mlrose\n",
    "import numpy as np\n",
    "import matplotlib.pyplot as plt\n",
    "import pandas as pd\n",
    "import timeit\n",
    "\n",
    "from sklearn import tree, svm, datasets, metrics, preprocessing\n",
    "from sklearn.model_selection import train_test_split,StratifiedKFold, ShuffleSplit\n",
    "from sklearn.model_selection import StratifiedShuffleSplit, cross_validate, GridSearchCV, learning_curve, cross_val_score, validation_curve\n",
    "from sklearn.metrics import roc_curve, auc, accuracy_score, confusion_matrix, classification_report\n",
    "from sklearn.preprocessing import StandardScaler, LabelEncoder"
   ]
  },
  {
   "cell_type": "markdown",
   "metadata": {},
   "source": [
    "## Knapsack"
   ]
  },
  {
   "cell_type": "code",
   "execution_count": 37,
   "metadata": {},
   "outputs": [],
   "source": [
    "# define fitness\n",
    "\n",
    "weights = [6, 6, 6, 2, 2, 8, 10, 9, 1, 7]\n",
    "values = [1, 2, 3, 4, 5, 6, 7, 8, 9, 10]\n",
    "max_weight_pct = 0.6\n",
    "fitness = mlrose.Knapsack(weights, values, max_weight_pct)"
   ]
  },
  {
   "cell_type": "code",
   "execution_count": 38,
   "metadata": {},
   "outputs": [],
   "source": [
    "problem = mlrose.DiscreteOpt(length = len(weights), fitness_fn = fitness, maximize = True)\n",
    "max_iters = 1000\n",
    "max_attempts = 200"
   ]
  },
  {
   "cell_type": "markdown",
   "metadata": {},
   "source": [
    "### Randomized Hill Climbing"
   ]
  },
  {
   "cell_type": "code",
   "execution_count": 39,
   "metadata": {
    "scrolled": false
   },
   "outputs": [
    {
     "name": "stdout",
     "output_type": "stream",
     "text": [
      "Wall time: 0.03611879099980797s\n"
     ]
    }
   ],
   "source": [
    "start = timeit.default_timer()\n",
    "best_state, best_fitness, rhc_curve = mlrose.random_hill_climb(problem, max_attempts = max_attempts, max_iters=max_iters, restarts=3, curve=True, init_state = None, random_state=1)\n",
    "end = timeit.default_timer()\n",
    "\n",
    "print(f'Wall time: {end-start}s')"
   ]
  },
  {
   "cell_type": "code",
   "execution_count": null,
   "metadata": {},
   "outputs": [],
   "source": []
  },
  {
   "cell_type": "markdown",
   "metadata": {},
   "source": [
    "### Simulated Annealing"
   ]
  },
  {
   "cell_type": "code",
   "execution_count": 40,
   "metadata": {
    "scrolled": true
   },
   "outputs": [
    {
     "name": "stdout",
     "output_type": "stream",
     "text": [
      "Wall time: 0.009909244000027684s\n"
     ]
    }
   ],
   "source": [
    "start = timeit.default_timer()\n",
    "best_state, best_fitness, sa_curve = mlrose.simulated_annealing(problem=problem, max_attempts=100, max_iters=max_iters, curve=True, random_state=None)\n",
    "end = timeit.default_timer()\n",
    "\n",
    "print(f'Wall time: {end-start}s')"
   ]
  },
  {
   "cell_type": "markdown",
   "metadata": {},
   "source": [
    "### Genetic Algorithm"
   ]
  },
  {
   "cell_type": "code",
   "execution_count": 41,
   "metadata": {},
   "outputs": [
    {
     "name": "stdout",
     "output_type": "stream",
     "text": [
      "Wall time: 0.10433796200004508s\n"
     ]
    }
   ],
   "source": [
    "start = timeit.default_timer()\n",
    "best_state, best_fitness, ga_curve = mlrose.genetic_alg(problem=problem, pop_size=len(weights), mutation_prob=0.3, max_attempts=100, max_iters=max_iters, curve=True, random_state=None)\n",
    "end = timeit.default_timer()\n",
    "\n",
    "print(f'Wall time: {end-start}s')"
   ]
  },
  {
   "cell_type": "markdown",
   "metadata": {},
   "source": [
    "### MIMIC"
   ]
  },
  {
   "cell_type": "code",
   "execution_count": 42,
   "metadata": {},
   "outputs": [
    {
     "name": "stdout",
     "output_type": "stream",
     "text": [
      "Wall time: 11.818992908999917s\n"
     ]
    }
   ],
   "source": [
    "start = timeit.default_timer()\n",
    "best_state, best_fitness, mimic_curve = mlrose.mimic(problem, pop_size = 600, keep_pct = 0.2, max_attempts = max_attempts, \n",
    "                                                     max_iters = max_iters,  curve = True, \n",
    "                                                     random_state = 1)\n",
    "end = timeit.default_timer()\n",
    "\n",
    "print(f'Wall time: {end-start}s')"
   ]
  },
  {
   "cell_type": "code",
   "execution_count": 43,
   "metadata": {},
   "outputs": [],
   "source": [
    "plot_dict = dict(x=np.arange(1,max_iters+1),\n",
    "                 Random_Hill = rhc_curve,\n",
    "                 Sim_Anneal = sa_curve,\n",
    "                 Genetic_Alg = ga_curve,\n",
    "                 MIMIC = mimic_curve)"
   ]
  },
  {
   "cell_type": "code",
   "execution_count": 44,
   "metadata": {},
   "outputs": [
    {
     "data": {
      "text/html": [
       "<div>\n",
       "<style scoped>\n",
       "    .dataframe tbody tr th:only-of-type {\n",
       "        vertical-align: middle;\n",
       "    }\n",
       "\n",
       "    .dataframe tbody tr th {\n",
       "        vertical-align: top;\n",
       "    }\n",
       "\n",
       "    .dataframe thead th {\n",
       "        text-align: right;\n",
       "    }\n",
       "</style>\n",
       "<table border=\"1\" class=\"dataframe\">\n",
       "  <thead>\n",
       "    <tr style=\"text-align: right;\">\n",
       "      <th></th>\n",
       "      <th>x</th>\n",
       "      <th>Random_Hill</th>\n",
       "      <th>Sim_Anneal</th>\n",
       "      <th>Genetic_Alg</th>\n",
       "      <th>MIMIC</th>\n",
       "    </tr>\n",
       "  </thead>\n",
       "  <tbody>\n",
       "    <tr>\n",
       "      <th>0</th>\n",
       "      <td>1.0</td>\n",
       "      <td>0.0</td>\n",
       "      <td>37.0</td>\n",
       "      <td>43.0</td>\n",
       "      <td>45.0</td>\n",
       "    </tr>\n",
       "    <tr>\n",
       "      <th>1</th>\n",
       "      <td>2.0</td>\n",
       "      <td>0.0</td>\n",
       "      <td>37.0</td>\n",
       "      <td>43.0</td>\n",
       "      <td>45.0</td>\n",
       "    </tr>\n",
       "    <tr>\n",
       "      <th>2</th>\n",
       "      <td>3.0</td>\n",
       "      <td>30.0</td>\n",
       "      <td>37.0</td>\n",
       "      <td>43.0</td>\n",
       "      <td>45.0</td>\n",
       "    </tr>\n",
       "    <tr>\n",
       "      <th>3</th>\n",
       "      <td>4.0</td>\n",
       "      <td>30.0</td>\n",
       "      <td>37.0</td>\n",
       "      <td>43.0</td>\n",
       "      <td>45.0</td>\n",
       "    </tr>\n",
       "    <tr>\n",
       "      <th>4</th>\n",
       "      <td>5.0</td>\n",
       "      <td>30.0</td>\n",
       "      <td>37.0</td>\n",
       "      <td>43.0</td>\n",
       "      <td>45.0</td>\n",
       "    </tr>\n",
       "  </tbody>\n",
       "</table>\n",
       "</div>"
      ],
      "text/plain": [
       "     x  Random_Hill  Sim_Anneal  Genetic_Alg  MIMIC\n",
       "0  1.0          0.0        37.0         43.0   45.0\n",
       "1  2.0          0.0        37.0         43.0   45.0\n",
       "2  3.0         30.0        37.0         43.0   45.0\n",
       "3  4.0         30.0        37.0         43.0   45.0\n",
       "4  5.0         30.0        37.0         43.0   45.0"
      ]
     },
     "execution_count": 44,
     "metadata": {},
     "output_type": "execute_result"
    }
   ],
   "source": [
    "df = pd.DataFrame.from_dict(plot_dict, orient='index')\n",
    "df = df.transpose()\n",
    "df.head()"
   ]
  },
  {
   "cell_type": "code",
   "execution_count": 45,
   "metadata": {
    "scrolled": false
   },
   "outputs": [
    {
     "data": {
      "image/png": "[encoded data removed]",
      "text/plain": [
       "<Figure size 288x288 with 1 Axes>"
      ]
     },
     "metadata": {
      "needs_background": "light"
     },
     "output_type": "display_data"
    }
   ],
   "source": [
    "fig, ax = plt.subplots(figsize=(4, 4))\n",
    "ax.plot('x', 'Random_Hill', data=df, marker='', c='Blue', markeredgecolor='w', linewidth=2, label='RHC')\n",
    "ax.plot('x', 'Sim_Anneal', data=df, marker='', c='Green', markeredgecolor='w', linewidth=2, label='SA')\n",
    "ax.plot('x', 'Genetic_Alg', data=df, marker='', c='Red', markeredgecolor='w', linewidth=2, label='GA')\n",
    "ax.plot('x', 'MIMIC', data=df, marker='', c='Orange', markeredgecolor='w', linewidth=2, label='Mimic')\n",
    "ax.set_xlabel('Iteration')\n",
    "ax.set_ylabel('Fitness State')\n",
    "ax.legend()\n",
    "\n",
    "fig.tight_layout()"
   ]
  }
 ],
 "metadata": {
  "kernelspec": {
   "display_name": "ml",
   "language": "python",
   "name": "ml"
  },
  "language_info": {
   "codemirror_mode": {
    "name": "ipython",
    "version": 3
   },
   "file_extension": ".py",
   "mimetype": "text/x-python",
   "name": "python",
   "nbconvert_exporter": "python",
   "pygments_lexer": "ipython3",
   "version": "3.8.5"
  }
 },
 "nbformat": 4,
 "nbformat_minor": 4
}
