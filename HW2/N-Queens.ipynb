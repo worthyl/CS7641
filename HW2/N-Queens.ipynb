{
 "cells": [
  {
   "cell_type": "markdown",
   "metadata": {},
   "source": [
    "## Citations\n",
    "\n",
    "Rollings, A. (2020). mlrose: Machine Learning, Randomized Optimization and SEarch package for Python, hiive extended remix. https://github.com/hiive/mlrose. Accessed: Sept 28, 2020\n",
    "\n",
    "Hayes, G. (2019). mlrose: Machine Learning, Randomized Optimization and SEarch package for Python. https://github.com/gkhayes/mlrose. Accessed: Sept 28, 2020\n",
    "\n",
    "(Timer) https://stackoverflow.com/questions/7370801/how-to-measure-elapsed-time-in-python"
   ]
  },
  {
   "cell_type": "code",
   "execution_count": 2,
   "metadata": {},
   "outputs": [],
   "source": [
    "import mlrose_hiive as mlrose\n",
    "import numpy as np\n",
    "import matplotlib.pyplot as plt\n",
    "import pandas as pd\n",
    "import timeit"
   ]
  },
  {
   "cell_type": "markdown",
   "metadata": {},
   "source": [
    "## N-Queens"
   ]
  },
  {
   "cell_type": "code",
   "execution_count": 3,
   "metadata": {},
   "outputs": [],
   "source": [
    "# define fitness\n",
    "\n",
    "fitness = mlrose.Queens()\n",
    "num_Queens = 15"
   ]
  },
  {
   "cell_type": "code",
   "execution_count": 10,
   "metadata": {},
   "outputs": [],
   "source": [
    "problem = mlrose.DiscreteOpt(num_Queens, fitness_fn = fitness, maximize = True, max_val=num_Queens)\n",
    "max_iters = 20000\n",
    "max_attempts = 200"
   ]
  },
  {
   "cell_type": "markdown",
   "metadata": {},
   "source": [
    "### Randomized Hill Climbing"
   ]
  },
  {
   "cell_type": "code",
   "execution_count": 11,
   "metadata": {
    "scrolled": false
   },
   "outputs": [
    {
     "name": "stdout",
     "output_type": "stream",
     "text": [
      "Wall time: 1.8170732329999737s\n"
     ]
    }
   ],
   "source": [
    "start = timeit.default_timer()\n",
    "best_state, best_fitness, rhc_curve = mlrose.random_hill_climb(problem, max_attempts = max_attempts, max_iters=max_iters, restarts=3, curve=True, init_state = None, random_state=1)\n",
    "end = timeit.default_timer()\n",
    "\n",
    "print(f'Wall time: {end-start}s')"
   ]
  },
  {
   "cell_type": "code",
   "execution_count": 12,
   "metadata": {},
   "outputs": [
    {
     "data": {
      "text/plain": [
       "902"
      ]
     },
     "execution_count": 12,
     "metadata": {},
     "output_type": "execute_result"
    }
   ],
   "source": [
    "len(rhc_curve)"
   ]
  },
  {
   "cell_type": "code",
   "execution_count": 13,
   "metadata": {},
   "outputs": [
    {
     "name": "stdout",
     "output_type": "stream",
     "text": [
      "Max Iteration: 50, Max_Attempts: 100, Num_Queens: 8, Wall time: 0.15206338599818991s\n",
      "Number of iterations: 50, Best Fitness: 48.0\n",
      "Max Iteration: 50, Max_Attempts: 100, Num_Queens: 10, Wall time: 0.13964430099804304s\n",
      "Number of iterations: 50, Best Fitness: 48.0\n",
      "Max Iteration: 50, Max_Attempts: 100, Num_Queens: 12, Wall time: 0.1522732490011549s\n",
      "Number of iterations: 50, Best Fitness: 48.0\n",
      "Max Iteration: 50, Max_Attempts: 100, Num_Queens: 15, Wall time: 0.14442064999821014s\n",
      "Number of iterations: 50, Best Fitness: 48.0\n",
      "Max Iteration: 50, Max_Attempts: 100, Num_Queens: 18, Wall time: 0.15372068699798547s\n",
      "Number of iterations: 50, Best Fitness: 48.0\n",
      "Max Iteration: 50, Max_Attempts: 100, Num_Queens: 20, Wall time: 0.13736417299878667s\n",
      "Number of iterations: 50, Best Fitness: 48.0\n",
      "Max Iteration: 50, Max_Attempts: 200, Num_Queens: 8, Wall time: 0.1750249430006079s\n",
      "Number of iterations: 50, Best Fitness: 48.0\n",
      "Max Iteration: 50, Max_Attempts: 200, Num_Queens: 10, Wall time: 0.17175431299983757s\n",
      "Number of iterations: 50, Best Fitness: 48.0\n",
      "Max Iteration: 50, Max_Attempts: 200, Num_Queens: 12, Wall time: 0.16402926500086323s\n",
      "Number of iterations: 50, Best Fitness: 48.0\n",
      "Max Iteration: 50, Max_Attempts: 200, Num_Queens: 15, Wall time: 0.1565151100003277s\n",
      "Number of iterations: 50, Best Fitness: 48.0\n",
      "Max Iteration: 50, Max_Attempts: 200, Num_Queens: 18, Wall time: 0.16244397000264144s\n",
      "Number of iterations: 50, Best Fitness: 48.0\n",
      "Max Iteration: 50, Max_Attempts: 200, Num_Queens: 20, Wall time: 0.16215630299848272s\n",
      "Number of iterations: 50, Best Fitness: 48.0\n",
      "Max Iteration: 50, Max_Attempts: 500, Num_Queens: 8, Wall time: 0.16319568700055243s\n",
      "Number of iterations: 50, Best Fitness: 48.0\n",
      "Max Iteration: 50, Max_Attempts: 500, Num_Queens: 10, Wall time: 0.16951404299834394s\n",
      "Number of iterations: 50, Best Fitness: 48.0\n",
      "Max Iteration: 50, Max_Attempts: 500, Num_Queens: 12, Wall time: 0.14917812200292246s\n",
      "Number of iterations: 50, Best Fitness: 48.0\n",
      "Max Iteration: 50, Max_Attempts: 500, Num_Queens: 15, Wall time: 0.14401244799955748s\n",
      "Number of iterations: 50, Best Fitness: 48.0\n",
      "Max Iteration: 50, Max_Attempts: 500, Num_Queens: 18, Wall time: 0.16457883300245157s\n",
      "Number of iterations: 50, Best Fitness: 48.0\n",
      "Max Iteration: 50, Max_Attempts: 500, Num_Queens: 20, Wall time: 0.16689122699972359s\n",
      "Number of iterations: 50, Best Fitness: 48.0\n",
      "Max Iteration: 100, Max_Attempts: 100, Num_Queens: 8, Wall time: 0.2891388880016166s\n",
      "Number of iterations: 100, Best Fitness: 64.0\n",
      "Max Iteration: 100, Max_Attempts: 100, Num_Queens: 10, Wall time: 0.2725244070024928s\n",
      "Number of iterations: 100, Best Fitness: 64.0\n",
      "Max Iteration: 100, Max_Attempts: 100, Num_Queens: 12, Wall time: 0.27032647200030624s\n",
      "Number of iterations: 100, Best Fitness: 64.0\n",
      "Max Iteration: 100, Max_Attempts: 100, Num_Queens: 15, Wall time: 0.2728107010007079s\n",
      "Number of iterations: 100, Best Fitness: 64.0\n",
      "Max Iteration: 100, Max_Attempts: 100, Num_Queens: 18, Wall time: 0.2818809340024018s\n",
      "Number of iterations: 100, Best Fitness: 64.0\n",
      "Max Iteration: 100, Max_Attempts: 100, Num_Queens: 20, Wall time: 0.27536389799934113s\n",
      "Number of iterations: 100, Best Fitness: 64.0\n",
      "Max Iteration: 100, Max_Attempts: 200, Num_Queens: 8, Wall time: 0.26846347199898446s\n",
      "Number of iterations: 100, Best Fitness: 64.0\n",
      "Max Iteration: 100, Max_Attempts: 200, Num_Queens: 10, Wall time: 0.2742375730013009s\n",
      "Number of iterations: 100, Best Fitness: 64.0\n",
      "Max Iteration: 100, Max_Attempts: 200, Num_Queens: 12, Wall time: 0.2783215659983398s\n",
      "Number of iterations: 100, Best Fitness: 64.0\n",
      "Max Iteration: 100, Max_Attempts: 200, Num_Queens: 15, Wall time: 0.2727456259999599s\n",
      "Number of iterations: 100, Best Fitness: 64.0\n",
      "Max Iteration: 100, Max_Attempts: 200, Num_Queens: 18, Wall time: 0.2720329629992193s\n",
      "Number of iterations: 100, Best Fitness: 64.0\n",
      "Max Iteration: 100, Max_Attempts: 200, Num_Queens: 20, Wall time: 0.27390116500100703s\n",
      "Number of iterations: 100, Best Fitness: 64.0\n",
      "Max Iteration: 100, Max_Attempts: 500, Num_Queens: 8, Wall time: 0.27517885500128614s\n",
      "Number of iterations: 100, Best Fitness: 64.0\n",
      "Max Iteration: 100, Max_Attempts: 500, Num_Queens: 10, Wall time: 0.2643797579985403s\n",
      "Number of iterations: 100, Best Fitness: 64.0\n",
      "Max Iteration: 100, Max_Attempts: 500, Num_Queens: 12, Wall time: 0.26050801599922124s\n",
      "Number of iterations: 100, Best Fitness: 64.0\n",
      "Max Iteration: 100, Max_Attempts: 500, Num_Queens: 15, Wall time: 0.26688920599917765s\n",
      "Number of iterations: 100, Best Fitness: 64.0\n",
      "Max Iteration: 100, Max_Attempts: 500, Num_Queens: 18, Wall time: 0.28442487600113964s\n",
      "Number of iterations: 100, Best Fitness: 64.0\n",
      "Max Iteration: 100, Max_Attempts: 500, Num_Queens: 20, Wall time: 0.2692633680017025s\n",
      "Number of iterations: 100, Best Fitness: 64.0\n",
      "Max Iteration: 250, Max_Attempts: 100, Num_Queens: 8, Wall time: 0.6330881100002443s\n",
      "Number of iterations: 250, Best Fitness: 120.0\n",
      "Max Iteration: 250, Max_Attempts: 100, Num_Queens: 10, Wall time: 0.615126632997999s\n",
      "Number of iterations: 250, Best Fitness: 120.0\n",
      "Max Iteration: 250, Max_Attempts: 100, Num_Queens: 12, Wall time: 0.6062203270012105s\n",
      "Number of iterations: 250, Best Fitness: 120.0\n",
      "Max Iteration: 250, Max_Attempts: 100, Num_Queens: 15, Wall time: 0.6112021469998581s\n",
      "Number of iterations: 250, Best Fitness: 120.0\n",
      "Max Iteration: 250, Max_Attempts: 100, Num_Queens: 18, Wall time: 0.6453120750011294s\n",
      "Number of iterations: 250, Best Fitness: 120.0\n",
      "Max Iteration: 250, Max_Attempts: 100, Num_Queens: 20, Wall time: 0.6504962540020642s\n",
      "Number of iterations: 250, Best Fitness: 120.0\n",
      "Max Iteration: 250, Max_Attempts: 200, Num_Queens: 8, Wall time: 0.6083471560014004s\n",
      "Number of iterations: 250, Best Fitness: 120.0\n",
      "Max Iteration: 250, Max_Attempts: 200, Num_Queens: 10, Wall time: 0.8208697350019065s\n",
      "Number of iterations: 250, Best Fitness: 120.0\n",
      "Max Iteration: 250, Max_Attempts: 200, Num_Queens: 12, Wall time: 0.62745766900116s\n",
      "Number of iterations: 250, Best Fitness: 120.0\n",
      "Max Iteration: 250, Max_Attempts: 200, Num_Queens: 15, Wall time: 0.6447892270007287s\n",
      "Number of iterations: 250, Best Fitness: 120.0\n",
      "Max Iteration: 250, Max_Attempts: 200, Num_Queens: 18, Wall time: 0.6363044830031868s\n",
      "Number of iterations: 250, Best Fitness: 120.0\n",
      "Max Iteration: 250, Max_Attempts: 200, Num_Queens: 20, Wall time: 0.6557054449986026s\n",
      "Number of iterations: 250, Best Fitness: 120.0\n",
      "Max Iteration: 250, Max_Attempts: 500, Num_Queens: 8, Wall time: 0.592576459999691s\n",
      "Number of iterations: 250, Best Fitness: 120.0\n",
      "Max Iteration: 250, Max_Attempts: 500, Num_Queens: 10, Wall time: 0.6020447989976674s\n",
      "Number of iterations: 250, Best Fitness: 120.0\n",
      "Max Iteration: 250, Max_Attempts: 500, Num_Queens: 12, Wall time: 0.588079667002603s\n",
      "Number of iterations: 250, Best Fitness: 120.0\n",
      "Max Iteration: 250, Max_Attempts: 500, Num_Queens: 15, Wall time: 0.5994267999994918s\n",
      "Number of iterations: 250, Best Fitness: 120.0\n",
      "Max Iteration: 250, Max_Attempts: 500, Num_Queens: 18, Wall time: 0.6023193920009362s\n",
      "Number of iterations: 250, Best Fitness: 120.0\n",
      "Max Iteration: 250, Max_Attempts: 500, Num_Queens: 20, Wall time: 0.5972185979990172s\n",
      "Number of iterations: 250, Best Fitness: 120.0\n",
      "Max Iteration: 500, Max_Attempts: 100, Num_Queens: 8, Wall time: 0.991254361000756s\n",
      "Number of iterations: 500, Best Fitness: 100.0\n",
      "Max Iteration: 500, Max_Attempts: 100, Num_Queens: 10, Wall time: 1.0109225020023587s\n",
      "Number of iterations: 500, Best Fitness: 100.0\n",
      "Max Iteration: 500, Max_Attempts: 100, Num_Queens: 12, Wall time: 1.0329183399990143s\n",
      "Number of iterations: 500, Best Fitness: 100.0\n",
      "Max Iteration: 500, Max_Attempts: 100, Num_Queens: 15, Wall time: 1.1143631269987964s\n",
      "Number of iterations: 500, Best Fitness: 100.0\n",
      "Max Iteration: 500, Max_Attempts: 100, Num_Queens: 18, Wall time: 1.0057803010022326s\n",
      "Number of iterations: 500, Best Fitness: 100.0\n",
      "Max Iteration: 500, Max_Attempts: 100, Num_Queens: 20, Wall time: 0.9843860250002763s\n",
      "Number of iterations: 500, Best Fitness: 100.0\n",
      "Max Iteration: 500, Max_Attempts: 200, Num_Queens: 8, Wall time: 1.2249101490015164s\n",
      "Number of iterations: 500, Best Fitness: 158.0\n",
      "Max Iteration: 500, Max_Attempts: 200, Num_Queens: 10, Wall time: 1.1378380009991815s\n",
      "Number of iterations: 500, Best Fitness: 158.0\n",
      "Max Iteration: 500, Max_Attempts: 200, Num_Queens: 12, Wall time: 1.1542962629973772s\n",
      "Number of iterations: 500, Best Fitness: 158.0\n"
     ]
    },
    {
     "name": "stdout",
     "output_type": "stream",
     "text": [
      "Max Iteration: 500, Max_Attempts: 200, Num_Queens: 15, Wall time: 1.1732062490009412s\n",
      "Number of iterations: 500, Best Fitness: 158.0\n",
      "Max Iteration: 500, Max_Attempts: 200, Num_Queens: 18, Wall time: 1.1647711139994499s\n",
      "Number of iterations: 500, Best Fitness: 158.0\n",
      "Max Iteration: 500, Max_Attempts: 200, Num_Queens: 20, Wall time: 1.1391311360021064s\n",
      "Number of iterations: 500, Best Fitness: 158.0\n",
      "Max Iteration: 500, Max_Attempts: 500, Num_Queens: 8, Wall time: 1.1343129989982117s\n",
      "Number of iterations: 500, Best Fitness: 158.0\n",
      "Max Iteration: 500, Max_Attempts: 500, Num_Queens: 10, Wall time: 1.1229145679972135s\n",
      "Number of iterations: 500, Best Fitness: 158.0\n",
      "Max Iteration: 500, Max_Attempts: 500, Num_Queens: 12, Wall time: 1.1457531329979247s\n",
      "Number of iterations: 500, Best Fitness: 158.0\n",
      "Max Iteration: 500, Max_Attempts: 500, Num_Queens: 15, Wall time: 1.169833762000053s\n",
      "Number of iterations: 500, Best Fitness: 158.0\n",
      "Max Iteration: 500, Max_Attempts: 500, Num_Queens: 18, Wall time: 1.1684119689998624s\n",
      "Number of iterations: 500, Best Fitness: 158.0\n",
      "Max Iteration: 500, Max_Attempts: 500, Num_Queens: 20, Wall time: 1.2130427230003988s\n",
      "Number of iterations: 500, Best Fitness: 158.0\n",
      "Max Iteration: 1000, Max_Attempts: 100, Num_Queens: 8, Wall time: 1.2175297390022024s\n",
      "Number of iterations: 560, Best Fitness: 98.0\n",
      "Max Iteration: 1000, Max_Attempts: 100, Num_Queens: 10, Wall time: 1.1929369569988921s\n",
      "Number of iterations: 560, Best Fitness: 98.0\n",
      "Max Iteration: 1000, Max_Attempts: 100, Num_Queens: 12, Wall time: 1.2028683179996733s\n",
      "Number of iterations: 560, Best Fitness: 98.0\n",
      "Max Iteration: 1000, Max_Attempts: 100, Num_Queens: 15, Wall time: 1.190862424999068s\n",
      "Number of iterations: 560, Best Fitness: 98.0\n",
      "Max Iteration: 1000, Max_Attempts: 100, Num_Queens: 18, Wall time: 1.2159880450017226s\n",
      "Number of iterations: 560, Best Fitness: 98.0\n",
      "Max Iteration: 1000, Max_Attempts: 100, Num_Queens: 20, Wall time: 1.303820794000785s\n",
      "Number of iterations: 560, Best Fitness: 98.0\n",
      "Max Iteration: 1000, Max_Attempts: 200, Num_Queens: 8, Wall time: 1.8206392530009907s\n",
      "Number of iterations: 902, Best Fitness: 173.0\n",
      "Max Iteration: 1000, Max_Attempts: 200, Num_Queens: 10, Wall time: 1.745335152001644s\n",
      "Number of iterations: 902, Best Fitness: 173.0\n",
      "Max Iteration: 1000, Max_Attempts: 200, Num_Queens: 12, Wall time: 1.9899635760011734s\n",
      "Number of iterations: 902, Best Fitness: 173.0\n",
      "Max Iteration: 1000, Max_Attempts: 200, Num_Queens: 15, Wall time: 1.8345302099987748s\n",
      "Number of iterations: 902, Best Fitness: 173.0\n",
      "Max Iteration: 1000, Max_Attempts: 200, Num_Queens: 18, Wall time: 1.8399116620021232s\n",
      "Number of iterations: 902, Best Fitness: 173.0\n",
      "Max Iteration: 1000, Max_Attempts: 200, Num_Queens: 20, Wall time: 1.7557414370021434s\n",
      "Number of iterations: 902, Best Fitness: 173.0\n",
      "Max Iteration: 1000, Max_Attempts: 500, Num_Queens: 8, Wall time: 2.2206823989981785s\n",
      "Number of iterations: 1000, Best Fitness: 142.0\n",
      "Max Iteration: 1000, Max_Attempts: 500, Num_Queens: 10, Wall time: 2.2619256530015264s\n",
      "Number of iterations: 1000, Best Fitness: 142.0\n",
      "Max Iteration: 1000, Max_Attempts: 500, Num_Queens: 12, Wall time: 2.190832808999403s\n",
      "Number of iterations: 1000, Best Fitness: 142.0\n",
      "Max Iteration: 1000, Max_Attempts: 500, Num_Queens: 15, Wall time: 2.233021521002229s\n",
      "Number of iterations: 1000, Best Fitness: 142.0\n",
      "Max Iteration: 1000, Max_Attempts: 500, Num_Queens: 18, Wall time: 2.2816226319991983s\n",
      "Number of iterations: 1000, Best Fitness: 142.0\n",
      "Max Iteration: 1000, Max_Attempts: 500, Num_Queens: 20, Wall time: 2.2889283069998783s\n",
      "Number of iterations: 1000, Best Fitness: 142.0\n",
      "Max Iteration: 2000, Max_Attempts: 100, Num_Queens: 8, Wall time: 1.307487450998451s\n",
      "Number of iterations: 560, Best Fitness: 98.0\n",
      "Max Iteration: 2000, Max_Attempts: 100, Num_Queens: 10, Wall time: 1.3108787310011394s\n",
      "Number of iterations: 560, Best Fitness: 98.0\n",
      "Max Iteration: 2000, Max_Attempts: 100, Num_Queens: 12, Wall time: 1.2836257110029692s\n",
      "Number of iterations: 560, Best Fitness: 98.0\n",
      "Max Iteration: 2000, Max_Attempts: 100, Num_Queens: 15, Wall time: 1.2909126880003896s\n",
      "Number of iterations: 560, Best Fitness: 98.0\n",
      "Max Iteration: 2000, Max_Attempts: 100, Num_Queens: 18, Wall time: 1.3324871669974527s\n",
      "Number of iterations: 560, Best Fitness: 98.0\n",
      "Max Iteration: 2000, Max_Attempts: 100, Num_Queens: 20, Wall time: 1.261270129998593s\n",
      "Number of iterations: 560, Best Fitness: 98.0\n",
      "Max Iteration: 2000, Max_Attempts: 200, Num_Queens: 8, Wall time: 1.8573492760006047s\n",
      "Number of iterations: 902, Best Fitness: 173.0\n",
      "Max Iteration: 2000, Max_Attempts: 200, Num_Queens: 10, Wall time: 1.8126891319989227s\n",
      "Number of iterations: 902, Best Fitness: 173.0\n",
      "Max Iteration: 2000, Max_Attempts: 200, Num_Queens: 12, Wall time: 1.7851768500004255s\n",
      "Number of iterations: 902, Best Fitness: 173.0\n",
      "Max Iteration: 2000, Max_Attempts: 200, Num_Queens: 15, Wall time: 1.7273815619992092s\n",
      "Number of iterations: 902, Best Fitness: 173.0\n",
      "Max Iteration: 2000, Max_Attempts: 200, Num_Queens: 18, Wall time: 1.7357315699991887s\n",
      "Number of iterations: 902, Best Fitness: 173.0\n",
      "Max Iteration: 2000, Max_Attempts: 200, Num_Queens: 20, Wall time: 1.8356471980005153s\n",
      "Number of iterations: 902, Best Fitness: 173.0\n",
      "Max Iteration: 2000, Max_Attempts: 500, Num_Queens: 8, Wall time: 3.0564700510003604s\n",
      "Number of iterations: 1515, Best Fitness: 145.0\n",
      "Max Iteration: 2000, Max_Attempts: 500, Num_Queens: 10, Wall time: 2.9360161990007327s\n",
      "Number of iterations: 1515, Best Fitness: 145.0\n",
      "Max Iteration: 2000, Max_Attempts: 500, Num_Queens: 12, Wall time: 2.79287813299743s\n",
      "Number of iterations: 1515, Best Fitness: 145.0\n",
      "Max Iteration: 2000, Max_Attempts: 500, Num_Queens: 15, Wall time: 2.7838889499980723s\n",
      "Number of iterations: 1515, Best Fitness: 145.0\n",
      "Max Iteration: 2000, Max_Attempts: 500, Num_Queens: 18, Wall time: 2.7514403320019483s\n",
      "Number of iterations: 1515, Best Fitness: 145.0\n",
      "Max Iteration: 2000, Max_Attempts: 500, Num_Queens: 20, Wall time: 2.8272481849999167s\n",
      "Number of iterations: 1515, Best Fitness: 145.0\n",
      "Max Iteration: 5000, Max_Attempts: 100, Num_Queens: 8, Wall time: 1.1985728580002615s\n",
      "Number of iterations: 560, Best Fitness: 98.0\n",
      "Max Iteration: 5000, Max_Attempts: 100, Num_Queens: 10, Wall time: 1.1953816909990564s\n",
      "Number of iterations: 560, Best Fitness: 98.0\n",
      "Max Iteration: 5000, Max_Attempts: 100, Num_Queens: 12, Wall time: 1.180637547000515s\n",
      "Number of iterations: 560, Best Fitness: 98.0\n",
      "Max Iteration: 5000, Max_Attempts: 100, Num_Queens: 15, Wall time: 1.1909526710005593s\n",
      "Number of iterations: 560, Best Fitness: 98.0\n",
      "Max Iteration: 5000, Max_Attempts: 100, Num_Queens: 18, Wall time: 1.2650621269967814s\n",
      "Number of iterations: 560, Best Fitness: 98.0\n",
      "Max Iteration: 5000, Max_Attempts: 100, Num_Queens: 20, Wall time: 1.3165134779992513s\n",
      "Number of iterations: 560, Best Fitness: 98.0\n",
      "Max Iteration: 5000, Max_Attempts: 200, Num_Queens: 8, Wall time: 1.9096000120007375s\n",
      "Number of iterations: 902, Best Fitness: 173.0\n",
      "Max Iteration: 5000, Max_Attempts: 200, Num_Queens: 10, Wall time: 1.7586185250002018s\n",
      "Number of iterations: 902, Best Fitness: 173.0\n",
      "Max Iteration: 5000, Max_Attempts: 200, Num_Queens: 12, Wall time: 1.705754047998198s\n",
      "Number of iterations: 902, Best Fitness: 173.0\n",
      "Max Iteration: 5000, Max_Attempts: 200, Num_Queens: 15, Wall time: 1.6801221579989942s\n",
      "Number of iterations: 902, Best Fitness: 173.0\n",
      "Max Iteration: 5000, Max_Attempts: 200, Num_Queens: 18, Wall time: 1.7557586319999245s\n",
      "Number of iterations: 902, Best Fitness: 173.0\n",
      "Max Iteration: 5000, Max_Attempts: 200, Num_Queens: 20, Wall time: 1.7897164030000567s\n",
      "Number of iterations: 902, Best Fitness: 173.0\n",
      "Max Iteration: 5000, Max_Attempts: 500, Num_Queens: 8, Wall time: 3.152078424998763s\n",
      "Number of iterations: 1515, Best Fitness: 145.0\n",
      "Max Iteration: 5000, Max_Attempts: 500, Num_Queens: 10, Wall time: 3.0860861509972892s\n",
      "Number of iterations: 1515, Best Fitness: 145.0\n",
      "Max Iteration: 5000, Max_Attempts: 500, Num_Queens: 12, Wall time: 3.2722839369998837s\n",
      "Number of iterations: 1515, Best Fitness: 145.0\n",
      "Max Iteration: 5000, Max_Attempts: 500, Num_Queens: 15, Wall time: 3.0191073850000976s\n",
      "Number of iterations: 1515, Best Fitness: 145.0\n",
      "Max Iteration: 5000, Max_Attempts: 500, Num_Queens: 18, Wall time: 3.096188980001898s\n",
      "Number of iterations: 1515, Best Fitness: 145.0\n"
     ]
    },
    {
     "name": "stdout",
     "output_type": "stream",
     "text": [
      "Max Iteration: 5000, Max_Attempts: 500, Num_Queens: 20, Wall time: 3.0911108489999606s\n",
      "Number of iterations: 1515, Best Fitness: 145.0\n"
     ]
    }
   ],
   "source": [
    "max_iters_list=[50,100,250,500,1000,2000,5000]\n",
    "max_attempts_list=[100,200,500]\n",
    "num_Queens_list=[8,10,12,15,18,20]\n",
    "\n",
    "for max_iters in max_iters_list:\n",
    "    for max_attempts in max_attempts_list:\n",
    "        for num_Queens in num_Queens_list:\n",
    "            start = timeit.default_timer()\n",
    "            best_state, best_fitness, rhc_curve = mlrose.random_hill_climb(problem, max_attempts=max_attempts, \n",
    "                                                                           max_iters=max_iters, \n",
    "                                                                           restarts=3, curve=True, \n",
    "                                                                           init_state = None, random_state=1)\n",
    "            end = timeit.default_timer()\n",
    "\n",
    "            print(f'Max Iteration: {max_iters}, Max_Attempts: {max_attempts}, Num_Queens: {num_Queens}, Wall time: {end-start}s')\n",
    "            print(f'Number of iterations: {len(rhc_curve)}, Best Fitness: {best_fitness}')"
   ]
  },
  {
   "cell_type": "markdown",
   "metadata": {},
   "source": [
    "### Simulated Annealing"
   ]
  },
  {
   "cell_type": "code",
   "execution_count": 5,
   "metadata": {
    "scrolled": true
   },
   "outputs": [
    {
     "name": "stdout",
     "output_type": "stream",
     "text": [
      "Wall time: 0.12038667300000006s\n"
     ]
    }
   ],
   "source": [
    "start = timeit.default_timer()\n",
    "best_state, best_fitness, sa_curve = mlrose.simulated_annealing(problem=problem, max_attempts=100, max_iters=max_iters, curve=True, random_state=None)\n",
    "end = timeit.default_timer()\n",
    "\n",
    "print(f'Wall time: {end-start}s')"
   ]
  },
  {
   "cell_type": "markdown",
   "metadata": {},
   "source": [
    "### Genetic Algorithm"
   ]
  },
  {
   "cell_type": "code",
   "execution_count": 6,
   "metadata": {},
   "outputs": [
    {
     "name": "stdout",
     "output_type": "stream",
     "text": [
      "Wall time: 13.042104974s\n"
     ]
    }
   ],
   "source": [
    "start = timeit.default_timer()\n",
    "best_state, best_fitness, ga_curve = mlrose.genetic_alg(problem=problem, pop_size=200, mutation_prob=0.3, max_attempts=100, max_iters=max_iters, curve=True, random_state=None)\n",
    "end = timeit.default_timer()\n",
    "\n",
    "print(f'Wall time: {end-start}s')"
   ]
  },
  {
   "cell_type": "markdown",
   "metadata": {},
   "source": [
    "### MIMIC"
   ]
  },
  {
   "cell_type": "code",
   "execution_count": 7,
   "metadata": {},
   "outputs": [
    {
     "name": "stdout",
     "output_type": "stream",
     "text": [
      "Wall time: 52.585198872s\n"
     ]
    }
   ],
   "source": [
    "start = timeit.default_timer()\n",
    "best_state, best_fitness, mimic_curve = mlrose.mimic(problem, pop_size = 300, keep_pct = 0.2, max_attempts = max_attempts, \n",
    "                                                     max_iters = max_iters,  curve = True, random_state = 1)\n",
    "end = timeit.default_timer()\n",
    "\n",
    "print(f'Wall time: {end-start}s')"
   ]
  },
  {
   "cell_type": "code",
   "execution_count": 8,
   "metadata": {},
   "outputs": [],
   "source": [
    "plot_dict = dict(x=np.arange(1,max_iters+1),\n",
    "                 Random_Hill = rhc_curve,\n",
    "                 Sim_Anneal = sa_curve,\n",
    "                 Genetic_Alg = ga_curve,\n",
    "                 MIMIC = mimic_curve)"
   ]
  },
  {
   "cell_type": "code",
   "execution_count": 9,
   "metadata": {},
   "outputs": [
    {
     "data": {
      "text/html": [
       "<div>\n",
       "<style scoped>\n",
       "    .dataframe tbody tr th:only-of-type {\n",
       "        vertical-align: middle;\n",
       "    }\n",
       "\n",
       "    .dataframe tbody tr th {\n",
       "        vertical-align: top;\n",
       "    }\n",
       "\n",
       "    .dataframe thead th {\n",
       "        text-align: right;\n",
       "    }\n",
       "</style>\n",
       "<table border=\"1\" class=\"dataframe\">\n",
       "  <thead>\n",
       "    <tr style=\"text-align: right;\">\n",
       "      <th></th>\n",
       "      <th>x</th>\n",
       "      <th>Random_Hill</th>\n",
       "      <th>Sim_Anneal</th>\n",
       "      <th>Genetic_Alg</th>\n",
       "      <th>MIMIC</th>\n",
       "    </tr>\n",
       "  </thead>\n",
       "  <tbody>\n",
       "    <tr>\n",
       "      <th>0</th>\n",
       "      <td>1.0</td>\n",
       "      <td>13.0</td>\n",
       "      <td>16.0</td>\n",
       "      <td>28.0</td>\n",
       "      <td>27.0</td>\n",
       "    </tr>\n",
       "    <tr>\n",
       "      <th>1</th>\n",
       "      <td>2.0</td>\n",
       "      <td>13.0</td>\n",
       "      <td>16.0</td>\n",
       "      <td>28.0</td>\n",
       "      <td>30.0</td>\n",
       "    </tr>\n",
       "    <tr>\n",
       "      <th>2</th>\n",
       "      <td>3.0</td>\n",
       "      <td>16.0</td>\n",
       "      <td>18.0</td>\n",
       "      <td>28.0</td>\n",
       "      <td>57.0</td>\n",
       "    </tr>\n",
       "    <tr>\n",
       "      <th>3</th>\n",
       "      <td>4.0</td>\n",
       "      <td>16.0</td>\n",
       "      <td>18.0</td>\n",
       "      <td>31.0</td>\n",
       "      <td>57.0</td>\n",
       "    </tr>\n",
       "    <tr>\n",
       "      <th>4</th>\n",
       "      <td>5.0</td>\n",
       "      <td>16.0</td>\n",
       "      <td>19.0</td>\n",
       "      <td>31.0</td>\n",
       "      <td>57.0</td>\n",
       "    </tr>\n",
       "  </tbody>\n",
       "</table>\n",
       "</div>"
      ],
      "text/plain": [
       "     x  Random_Hill  Sim_Anneal  Genetic_Alg  MIMIC\n",
       "0  1.0         13.0        16.0         28.0   27.0\n",
       "1  2.0         13.0        16.0         28.0   30.0\n",
       "2  3.0         16.0        18.0         28.0   57.0\n",
       "3  4.0         16.0        18.0         31.0   57.0\n",
       "4  5.0         16.0        19.0         31.0   57.0"
      ]
     },
     "execution_count": 9,
     "metadata": {},
     "output_type": "execute_result"
    }
   ],
   "source": [
    "df = pd.DataFrame.from_dict(plot_dict, orient='index')\n",
    "df = df.transpose()\n",
    "df.head()"
   ]
  },
  {
   "cell_type": "code",
   "execution_count": 10,
   "metadata": {
    "scrolled": true
   },
   "outputs": [
    {
     "data": {
      "image/png": "[encoded data removed]",
      "text/plain": [
       "<Figure size 288x288 with 1 Axes>"
      ]
     },
     "metadata": {
      "needs_background": "light"
     },
     "output_type": "display_data"
    }
   ],
   "source": [
    "fig, ax = plt.subplots(figsize=(4, 4))\n",
    "ax.plot('x', 'Random_Hill', data=df, marker='', c='Blue', markeredgecolor='w', linewidth=2, label='RHC')\n",
    "ax.plot('x', 'Sim_Anneal', data=df, marker='', c='Green', markeredgecolor='w', linewidth=2, label='SA')\n",
    "ax.plot('x', 'Genetic_Alg', data=df, marker='', c='Red', markeredgecolor='w', linewidth=2, label='GA')\n",
    "ax.plot('x', 'MIMIC', data=df, marker='', c='Orange', markeredgecolor='w', linewidth=2, label='Mimic')\n",
    "ax.set_xlabel('Iteration')\n",
    "ax.set_ylabel('Fitness State')\n",
    "ax.legend()\n",
    "\n",
    "fig.tight_layout()"
   ]
  }
 ],
 "metadata": {
  "kernelspec": {
   "display_name": "ml",
   "language": "python",
   "name": "ml"
  },
  "language_info": {
   "codemirror_mode": {
    "name": "ipython",
    "version": 3
   },
   "file_extension": ".py",
   "mimetype": "text/x-python",
   "name": "python",
   "nbconvert_exporter": "python",
   "pygments_lexer": "ipython3",
   "version": "3.8.5"
  }
 },
 "nbformat": 4,
 "nbformat_minor": 4
}
