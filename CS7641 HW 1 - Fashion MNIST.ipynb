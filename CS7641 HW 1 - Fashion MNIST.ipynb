{
 "cells": [
  {
   "cell_type": "markdown",
   "metadata": {},
   "source": [
    "# CS 7641 Homework 1 - Fall 2020\n",
    "\n"
   ]
  },
  {
   "cell_type": "code",
   "execution_count": 28,
   "metadata": {},
   "outputs": [],
   "source": [
    "import numpy as np\n",
    "import pandas as pd\n",
    "from matplotlib import pyplot as plt\n",
    "from sklearn import tree, svm, datasets\n",
    "from sklearn.metrics import accuracy_score\n",
    "from sklearn.model_selection import train_test_split\n",
    "import os"
   ]
  },
  {
   "cell_type": "markdown",
   "metadata": {},
   "source": [
    "## Loading Datasets"
   ]
  },
  {
   "cell_type": "code",
   "execution_count": 8,
   "metadata": {},
   "outputs": [],
   "source": [
    "fashion_train = pd.read_csv(\"./data//fashion-mnist_train.csv\")\n",
    "fashion_train_X = fashion_train.drop(\"label\", axis=1)/256\n",
    "fashion_train_y = fashion_train.label\n",
    "\n",
    "fashion_test = pd.read_csv(\"./data//fashion-mnist_test.csv\")\n",
    "fashion_test_X = fashion_test.drop(\"label\", axis=1)/256\n",
    "fashion_test_y = fashion_test.label"
   ]
  },
  {
   "cell_type": "code",
   "execution_count": 9,
   "metadata": {},
   "outputs": [
    {
     "name": "stdout",
     "output_type": "stream",
     "text": [
      "Accuracy Score: 0.8104\n"
     ]
    }
   ],
   "source": [
    "# https://scikit-learn.org/stable/modules/tree.html\n",
    "# https://deepstat.tistory.com/44\n",
    "# https://jcabelloc.github.io/machine%20learning/2019/02/27/classification-task.html\n",
    "\n",
    "dtc_fashion = tree.DecisionTreeClassifier(criterion=\"entropy\")\n",
    "dtc_fashion = dtc_fashion.fit(fashion_train_X, fashion_train_y)\n",
    "fashion_predict_y = dtc_fashion.predict(fashion_test_X)\n",
    "print(f\"Accuracy Score: {accuracy_score(fashion_test_y, fashion_predict_y)}\")\n"
   ]
  },
  {
   "cell_type": "markdown",
   "metadata": {},
   "source": [
    "## SVM"
   ]
  },
  {
   "cell_type": "code",
   "execution_count": 4,
   "metadata": {},
   "outputs": [
    {
     "data": {
      "text/plain": [
       "0.8881"
      ]
     },
     "execution_count": 4,
     "metadata": {},
     "output_type": "execute_result"
    }
   ],
   "source": [
    "model = svm.SVC(kernel='rbf', C=30, gamma='auto')\n",
    "model.fit(fashion_train_X, fashion_train_y)\n",
    "model.score(fashion_test_X, fashion_test_y)"
   ]
  },
  {
   "cell_type": "code",
   "execution_count": 5,
   "metadata": {},
   "outputs": [],
   "source": [
    "from sklearn.model_selection import cross_val_score"
   ]
  },
  {
   "cell_type": "code",
   "execution_count": null,
   "metadata": {},
   "outputs": [],
   "source": [
    "from sklearn.model_selection import GridSearchCV\n",
    "from sklearn.multiclass import OneVsRestClassifier\n",
    "from sklearn.metrics import f1_score, make_scorer\n",
    "\n",
    "# https://stackoverflow.com/questions/12632992/gridsearch-for-an-estimator-inside-a-onevsrestclassifier\n",
    "\n",
    "# model_OVRC = OneVsRestClassifier(svm.LinearSVC(class_weight='balanced', max_iter=10000))\n",
    "svm_model = svm.LinearSVC(class_weight='balanced', max_iter=100000)\n",
    "\n",
    "parameters = {\n",
    "    'C': [0.1, 1]\n",
    "}\n",
    "\n",
    "model = GridSearchCV(svm_model, parameters, cv=5)\n",
    "\n",
    "model.fit(fashion_train_X, fashion_train_y)\n",
    "model_predict = model.predict(fashion_test_X)\n",
    "\n",
    "print(metrics.classification_report(fashion_test_y, model_predict))\n"
   ]
  },
  {
   "cell_type": "markdown",
   "metadata": {},
   "source": [
    "## KNN"
   ]
  },
  {
   "cell_type": "code",
   "execution_count": 6,
   "metadata": {},
   "outputs": [],
   "source": [
    "from sklearn.neighbors import KNeighborsClassifier\n",
    "from sklearn.metrics import confusion_matrix"
   ]
  },
  {
   "cell_type": "code",
   "execution_count": 7,
   "metadata": {
    "scrolled": true
   },
   "outputs": [
    {
     "name": "stdout",
     "output_type": "stream",
     "text": [
      "Training accuracy =  1.0\n"
     ]
    }
   ],
   "source": [
    "KNN_Model = KNeighborsClassifier(n_neighbors=1).fit(fashion_train_X, fashion_train_y)\n",
    "KNN_Model_type_1_train_acc = (KNN_Model.predict(fashion_train_X) == fashion_train_y).mean()\n",
    "print(\"Training accuracy = \", KNN_Model_type_1_train_acc)"
   ]
  },
  {
   "cell_type": "code",
   "execution_count": null,
   "metadata": {},
   "outputs": [],
   "source": []
  }
 ],
 "metadata": {
  "kernelspec": {
   "display_name": "ml",
   "language": "python",
   "name": "ml"
  },
  "language_info": {
   "codemirror_mode": {
    "name": "ipython",
    "version": 3
   },
   "file_extension": ".py",
   "mimetype": "text/x-python",
   "name": "python",
   "nbconvert_exporter": "python",
   "pygments_lexer": "ipython3",
   "version": "3.8.5"
  }
 },
 "nbformat": 4,
 "nbformat_minor": 4
}
